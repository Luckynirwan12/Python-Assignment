{
  "nbformat": 4,
  "nbformat_minor": 0,
  "metadata": {
    "colab": {
      "provenance": [],
      "authorship_tag": "ABX9TyNjWPla57z5MEn1qpaRvWRI",
      "include_colab_link": true
    },
    "kernelspec": {
      "name": "python3",
      "display_name": "Python 3"
    },
    "language_info": {
      "name": "python"
    }
  },
  "cells": [
    {
      "cell_type": "markdown",
      "metadata": {
        "id": "view-in-github",
        "colab_type": "text"
      },
      "source": [
        "<a href=\"https://colab.research.google.com/github/Luckynirwan12/Python-Assignment/blob/main/Python_Assignment.ipynb\" target=\"_parent\"><img src=\"https://colab.research.google.com/assets/colab-badge.svg\" alt=\"Open In Colab\"/></a>"
      ]
    },
    {
      "cell_type": "markdown",
      "source": [
        "### **Q1. L is a list defined as L = [11, 12, 13, 14,]**\n",
        "(i) WAP to add 50 and 60 to L:\n"
      ],
      "metadata": {
        "id": "H9ldPUdrXzyY"
      }
    },
    {
      "cell_type": "code",
      "execution_count": 1,
      "metadata": {
        "colab": {
          "base_uri": "https://localhost:8080/"
        },
        "id": "pZ1i74NvXc3_",
        "outputId": "9fce9e00-7d44-4b7a-ba47-7c4a795dc4d0"
      },
      "outputs": [
        {
          "output_type": "stream",
          "name": "stdout",
          "text": [
            "[11, 12, 13, 14, 50, 60]\n"
          ]
        }
      ],
      "source": [
        "L =  [11, 12, 13, 14,]\n",
        "L.append(50)\n",
        "L.append(60)\n",
        "print(L)"
      ]
    },
    {
      "cell_type": "markdown",
      "source": [
        "(ii) WAP to remove 11 and 13 from L:"
      ],
      "metadata": {
        "id": "IuQQ4kwoY-6s"
      }
    },
    {
      "cell_type": "code",
      "source": [
        "L =  [11, 12, 13, 14,]\n",
        "L.remove(11)\n",
        "L.remove(13)\n",
        "print(L)"
      ],
      "metadata": {
        "colab": {
          "base_uri": "https://localhost:8080/"
        },
        "id": "uLTrt72yZb4J",
        "outputId": "7c45cc0c-667d-48e3-a605-1842033de228"
      },
      "execution_count": 2,
      "outputs": [
        {
          "output_type": "stream",
          "name": "stdout",
          "text": [
            "[12, 14]\n"
          ]
        }
      ]
    },
    {
      "cell_type": "markdown",
      "source": [
        "(iii) WAP to sort L in ascending order:"
      ],
      "metadata": {
        "id": "La_aQrh4ZxVi"
      }
    },
    {
      "cell_type": "code",
      "source": [
        "L =  [11, 12, 13, 14,]\n",
        "L.sort()\n",
        "print(L)"
      ],
      "metadata": {
        "colab": {
          "base_uri": "https://localhost:8080/"
        },
        "id": "vaHVmuPvZzef",
        "outputId": "a917a4c4-0d09-48dd-d443-b12cba3bceca"
      },
      "execution_count": 3,
      "outputs": [
        {
          "output_type": "stream",
          "name": "stdout",
          "text": [
            "[11, 12, 13, 14]\n"
          ]
        }
      ]
    },
    {
      "cell_type": "markdown",
      "source": [
        "(iv) WAP to sort L in descending order:"
      ],
      "metadata": {
        "id": "9rjmuK5xaeud"
      }
    },
    {
      "cell_type": "code",
      "source": [
        "L =  [11, 12, 13, 14,]\n",
        "L.sort(reverse = True)\n",
        "print(L)"
      ],
      "metadata": {
        "colab": {
          "base_uri": "https://localhost:8080/"
        },
        "id": "Gs4IQzuOamAq",
        "outputId": "0f608ef0-5759-48ce-81ed-e218b21f4298"
      },
      "execution_count": 4,
      "outputs": [
        {
          "output_type": "stream",
          "name": "stdout",
          "text": [
            "[14, 13, 12, 11]\n"
          ]
        }
      ]
    },
    {
      "cell_type": "markdown",
      "source": [
        "(v) WAP to search for 13 in L:"
      ],
      "metadata": {
        "id": "u5U_gDdua2EP"
      }
    },
    {
      "cell_type": "code",
      "source": [
        "L =  [11, 12, 13, 14,]\n",
        "if 13 in L:\n",
        "  print(\"13 is found\")\n",
        "else:\n",
        "  print(\"13 is not found\")"
      ],
      "metadata": {
        "colab": {
          "base_uri": "https://localhost:8080/"
        },
        "id": "OMss-vmLa52Z",
        "outputId": "949a3481-7117-4528-9db6-01888b0d872b"
      },
      "execution_count": 5,
      "outputs": [
        {
          "output_type": "stream",
          "name": "stdout",
          "text": [
            "13 is found\n"
          ]
        }
      ]
    },
    {
      "cell_type": "markdown",
      "source": [
        "(vi) WAP to count the number of elements present in L:"
      ],
      "metadata": {
        "id": "RHdnkYV_bSD4"
      }
    },
    {
      "cell_type": "code",
      "source": [
        "L =  [11, 12, 13, 14,]\n",
        "print(\"Number of elements in L : \",len(L))"
      ],
      "metadata": {
        "colab": {
          "base_uri": "https://localhost:8080/"
        },
        "id": "Gj4-m98sbeI9",
        "outputId": "093f25c5-2bd4-473d-ef68-11adfc13104e"
      },
      "execution_count": 6,
      "outputs": [
        {
          "output_type": "stream",
          "name": "stdout",
          "text": [
            "Number of elements in L :  4\n"
          ]
        }
      ]
    },
    {
      "cell_type": "markdown",
      "source": [
        "(vii) WAP to sum all the elements in L:"
      ],
      "metadata": {
        "id": "gLiYeSHwcAeL"
      }
    },
    {
      "cell_type": "code",
      "source": [
        "L =  [11, 12, 13, 14,]\n",
        "print(\"Sum of all elements : \",sum(L))"
      ],
      "metadata": {
        "colab": {
          "base_uri": "https://localhost:8080/"
        },
        "id": "mVpfbysCcBnW",
        "outputId": "24c994e6-34c5-483e-fc75-4d8d6d1b17ce"
      },
      "execution_count": 7,
      "outputs": [
        {
          "output_type": "stream",
          "name": "stdout",
          "text": [
            "Sum of all elements :  50\n"
          ]
        }
      ]
    },
    {
      "cell_type": "markdown",
      "source": [
        "(viii) WAP to sum all ODD numbers in L:"
      ],
      "metadata": {
        "id": "JDOoMJtPcaZS"
      }
    },
    {
      "cell_type": "code",
      "source": [
        "L =  [11, 12, 13, 14,]\n",
        "odd_sum = 0\n",
        "for i in L:\n",
        "  if i % 2 != 0 :\n",
        "    odd_sum += i\n",
        "print(\"Sum of all odd numbers : \",odd_sum)"
      ],
      "metadata": {
        "colab": {
          "base_uri": "https://localhost:8080/"
        },
        "id": "mQPakbu4cb0L",
        "outputId": "ccd5a619-ecd0-49a3-8ec9-673a48f06934"
      },
      "execution_count": 8,
      "outputs": [
        {
          "output_type": "stream",
          "name": "stdout",
          "text": [
            "Sum of all odd numbers :  24\n"
          ]
        }
      ]
    },
    {
      "cell_type": "markdown",
      "source": [
        "(ix) WAP to sum all EVEN numbers in L:"
      ],
      "metadata": {
        "id": "LG6_Gk-_dR7O"
      }
    },
    {
      "cell_type": "code",
      "source": [
        "L =  [11, 12, 13, 14,]\n",
        "even_sum = 0\n",
        "for i in L:\n",
        "  if i % 2 == 0 :\n",
        "    even_sum += i\n",
        "print(\"Sum of all even numbers : \",even_sum)"
      ],
      "metadata": {
        "colab": {
          "base_uri": "https://localhost:8080/"
        },
        "id": "d0yWbhzxdVd_",
        "outputId": "64d7d5cf-bbd4-4c74-9a79-b67fd94474d8"
      },
      "execution_count": 9,
      "outputs": [
        {
          "output_type": "stream",
          "name": "stdout",
          "text": [
            "Sum of all even numbers :  26\n"
          ]
        }
      ]
    },
    {
      "cell_type": "markdown",
      "source": [
        "(x) WAP to sum all PRIME numbers in L:"
      ],
      "metadata": {
        "id": "W82ARyDXdlYf"
      }
    },
    {
      "cell_type": "code",
      "source": [
        "L =  [11, 12, 13, 14,]\n",
        "prime_sum = 0\n",
        "for i in L:\n",
        "  if i > 1:\n",
        "    for j in range(2,i):\n",
        "      if i % j == 0:\n",
        "        break\n",
        "    else:\n",
        "      prime_sum += i\n",
        "print(\"Sum of all prime numbers : \",prime_sum)"
      ],
      "metadata": {
        "colab": {
          "base_uri": "https://localhost:8080/"
        },
        "id": "y98OuajxdplP",
        "outputId": "d9656634-10f8-4f62-c8cd-6f8b58a1a608"
      },
      "execution_count": 10,
      "outputs": [
        {
          "output_type": "stream",
          "name": "stdout",
          "text": [
            "Sum of all prime numbers :  24\n"
          ]
        }
      ]
    },
    {
      "cell_type": "markdown",
      "source": [
        "(xi) WAP to clear all the elements in L:"
      ],
      "metadata": {
        "id": "C-E086tJebeL"
      }
    },
    {
      "cell_type": "code",
      "source": [
        "L =  [11, 12, 13, 14,]\n",
        "L.clear()\n",
        "print(\"After clearing:\", L)"
      ],
      "metadata": {
        "colab": {
          "base_uri": "https://localhost:8080/"
        },
        "id": "k3LZi_jaegmV",
        "outputId": "9bd6b56f-a429-45b9-d38d-bb774a7c7f7d"
      },
      "execution_count": 11,
      "outputs": [
        {
          "output_type": "stream",
          "name": "stdout",
          "text": [
            "After clearing: []\n"
          ]
        }
      ]
    },
    {
      "cell_type": "markdown",
      "source": [
        "(xii) WAP to delete L:"
      ],
      "metadata": {
        "id": "eUO8NrrJesDq"
      }
    },
    {
      "cell_type": "code",
      "source": [
        "L =  [11, 12, 13, 14,]\n",
        "del L\n",
        "# print(L)  # This would raise an error because L is deleted"
      ],
      "metadata": {
        "id": "0lpjGX8Iezs_"
      },
      "execution_count": 13,
      "outputs": []
    },
    {
      "cell_type": "markdown",
      "source": [
        "### **Q2. D is a dictionary defined as D = {1:5.6, 2:7.8, 3:6.6, 4:8.7, 5:7.7}**\n",
        "(i) WAP to add new entry in D; key=8 and value is 8.8"
      ],
      "metadata": {
        "id": "8MUun7Qugeqn"
      }
    },
    {
      "cell_type": "code",
      "source": [
        "D = {1:5.6, 2:7.8, 3:6.6, 4:8.7, 5:7.7}\n",
        "D[8] = 8.8\n",
        "print(\"After adding key=8:\", D)"
      ],
      "metadata": {
        "colab": {
          "base_uri": "https://localhost:8080/"
        },
        "id": "ZT4mHdnGg0Ay",
        "outputId": "71e0bb66-77fb-4677-aaff-f32d422e8856"
      },
      "execution_count": 14,
      "outputs": [
        {
          "output_type": "stream",
          "name": "stdout",
          "text": [
            "After adding key=8: {1: 5.6, 2: 7.8, 3: 6.6, 4: 8.7, 5: 7.7, 8: 8.8}\n"
          ]
        }
      ]
    },
    {
      "cell_type": "markdown",
      "source": [
        "(ii) WAP to remove key=2"
      ],
      "metadata": {
        "id": "6LRcWo7QhJlb"
      }
    },
    {
      "cell_type": "code",
      "source": [
        "D = {1:5.6, 2:7.8, 3:6.6, 4:8.7, 5:7.7}\n",
        "D.pop(2)\n",
        "print(\"After removing key=2:\", D)"
      ],
      "metadata": {
        "colab": {
          "base_uri": "https://localhost:8080/"
        },
        "id": "G4FFRNJMhNYZ",
        "outputId": "c17b7433-0940-4402-db20-918105af39ea"
      },
      "execution_count": 15,
      "outputs": [
        {
          "output_type": "stream",
          "name": "stdout",
          "text": [
            "After removing key=2: {1: 5.6, 3: 6.6, 4: 8.7, 5: 7.7}\n"
          ]
        }
      ]
    },
    {
      "cell_type": "markdown",
      "source": [
        "(iii) WAP to check whether key=6 is present in D"
      ],
      "metadata": {
        "id": "dHd57XfWhfO7"
      }
    },
    {
      "cell_type": "code",
      "source": [
        "D = {1:5.6, 2:7.8, 3:6.6, 4:8.7, 5:7.7}\n",
        "if 6 in D :\n",
        "  print(\"Key=6 is present in D\")\n",
        "else:\n",
        "  print(\"Key=6 is not present in D\")"
      ],
      "metadata": {
        "colab": {
          "base_uri": "https://localhost:8080/"
        },
        "id": "G9HkW2Wohk1R",
        "outputId": "949f018a-8362-41e2-e777-14ad15036285"
      },
      "execution_count": 16,
      "outputs": [
        {
          "output_type": "stream",
          "name": "stdout",
          "text": [
            "Key=6 is not present in D\n"
          ]
        }
      ]
    },
    {
      "cell_type": "markdown",
      "source": [
        "(iv) WAP to count the number of elements present in D"
      ],
      "metadata": {
        "id": "cetswUBZh40c"
      }
    },
    {
      "cell_type": "code",
      "source": [
        "D = {1:5.6, 2:7.8, 3:6.6, 4:8.7, 5:7.7}\n",
        "print(\"Number of elements in D : \", len(D))"
      ],
      "metadata": {
        "colab": {
          "base_uri": "https://localhost:8080/"
        },
        "id": "lAqKOOP8h6PT",
        "outputId": "fdd15860-0012-49c7-b094-200239444832"
      },
      "execution_count": 17,
      "outputs": [
        {
          "output_type": "stream",
          "name": "stdout",
          "text": [
            "Number of elements in D :  5\n"
          ]
        }
      ]
    },
    {
      "cell_type": "markdown",
      "source": [
        "(v) WAP to add all the values present in D"
      ],
      "metadata": {
        "id": "6bubU1wriPdp"
      }
    },
    {
      "cell_type": "code",
      "source": [
        "D = {1:5.6, 2:7.8, 3:6.6, 4:8.7, 5:7.7}\n",
        "print(\"Sum of all the values : \", sum(D.values()))"
      ],
      "metadata": {
        "colab": {
          "base_uri": "https://localhost:8080/"
        },
        "id": "zmGEmAwqiUh3",
        "outputId": "f2089558-232e-4de5-a0bc-68873eab650b"
      },
      "execution_count": 19,
      "outputs": [
        {
          "output_type": "stream",
          "name": "stdout",
          "text": [
            "Sum of all the values :  36.4\n"
          ]
        }
      ]
    },
    {
      "cell_type": "markdown",
      "source": [
        "(vi) WAP to update the value of key=3 to 7.1"
      ],
      "metadata": {
        "id": "c366TWxBixM_"
      }
    },
    {
      "cell_type": "code",
      "source": [
        "D = {1:5.6, 2:7.8, 3:6.6, 4:8.7, 5:7.7}\n",
        "D[3] = 7.1\n",
        "print(\"After updating key=3:\", D)"
      ],
      "metadata": {
        "colab": {
          "base_uri": "https://localhost:8080/"
        },
        "id": "WpuH3oLqiyUG",
        "outputId": "7a755b9f-daf7-4fea-950f-0857636aef43"
      },
      "execution_count": 20,
      "outputs": [
        {
          "output_type": "stream",
          "name": "stdout",
          "text": [
            "After updating key=3: {1: 5.6, 2: 7.8, 3: 7.1, 4: 8.7, 5: 7.7}\n"
          ]
        }
      ]
    },
    {
      "cell_type": "markdown",
      "source": [
        "(vii) WAP to clear the dictionary"
      ],
      "metadata": {
        "id": "D7Ivdk5UjL5E"
      }
    },
    {
      "cell_type": "code",
      "source": [
        "D = {1:5.6, 2:7.8, 3:6.6, 4:8.7, 5:7.7}\n",
        "D.clear()\n",
        "print(\"After clearing:\", D)"
      ],
      "metadata": {
        "colab": {
          "base_uri": "https://localhost:8080/"
        },
        "id": "c-xWeE4BjP_l",
        "outputId": "6ce6f30d-69a8-4bd6-9fc6-0e7241618723"
      },
      "execution_count": 21,
      "outputs": [
        {
          "output_type": "stream",
          "name": "stdout",
          "text": [
            "After clearing: {}\n"
          ]
        }
      ]
    },
    {
      "cell_type": "markdown",
      "source": [
        "### **Q3. S1 is a set defined as S1= [10, 20, 30, 40, 50, 60]. S2 is a set defined as S2= [40, 50, 60, 70, 80, 90].**\n",
        "(i) WAP to add 55 and 66 in Set S1."
      ],
      "metadata": {
        "id": "wbkfYxS7jsO2"
      }
    },
    {
      "cell_type": "code",
      "source": [
        "S1 = set([10, 20, 30, 40, 50, 60])\n",
        "S2 = set([40, 50, 60, 70, 80, 90])\n",
        "S1.add(55)\n",
        "S1.add(66)\n",
        "print(\"After adding 55 and 66:\", S1)"
      ],
      "metadata": {
        "colab": {
          "base_uri": "https://localhost:8080/"
        },
        "id": "IQ-ZEN-tj6aI",
        "outputId": "3cb3a627-f9b8-43e4-e8ad-e69f70f02721"
      },
      "execution_count": 22,
      "outputs": [
        {
          "output_type": "stream",
          "name": "stdout",
          "text": [
            "After adding 55 and 66: {66, 40, 10, 50, 20, 55, 60, 30}\n"
          ]
        }
      ]
    },
    {
      "cell_type": "markdown",
      "source": [
        "(ii) WAP to remove 10 and 30 from Set S1"
      ],
      "metadata": {
        "id": "jWUNVpnUkbRR"
      }
    },
    {
      "cell_type": "code",
      "source": [
        "S1 = set([10, 20, 30, 40, 50, 60])\n",
        "S2 = set([40, 50, 60, 70, 80, 90])\n",
        "S1.remove(10)\n",
        "S1.remove(30)\n",
        "print(\"After removing 10 and 30:\", S1)"
      ],
      "metadata": {
        "colab": {
          "base_uri": "https://localhost:8080/"
        },
        "id": "IZIBEEOlkeps",
        "outputId": "37d0add4-be5d-4bf2-ce7c-e104cd857f62"
      },
      "execution_count": 23,
      "outputs": [
        {
          "output_type": "stream",
          "name": "stdout",
          "text": [
            "After removing 10 and 30: {40, 50, 20, 60}\n"
          ]
        }
      ]
    },
    {
      "cell_type": "markdown",
      "source": [
        "(iii) WAP to check whether 40 is present in S1"
      ],
      "metadata": {
        "id": "v40fLRINkmC1"
      }
    },
    {
      "cell_type": "code",
      "source": [
        "S1 = set([10, 20, 30, 40, 50, 60])\n",
        "S2 = set([40, 50, 60, 70, 80, 90])\n",
        "if 40 in S1:\n",
        "    print(\"40 is present in S1.\")\n",
        "else:\n",
        "    print(\"40 is not present in S1.\")\n"
      ],
      "metadata": {
        "colab": {
          "base_uri": "https://localhost:8080/"
        },
        "id": "sFl_2V7AkvBU",
        "outputId": "582a918d-d0a7-4ddc-8daa-3198c4253cb9"
      },
      "execution_count": 24,
      "outputs": [
        {
          "output_type": "stream",
          "name": "stdout",
          "text": [
            "40 is present in S1.\n"
          ]
        }
      ]
    },
    {
      "cell_type": "markdown",
      "source": [
        "(iv) WAP to find the union between S1 and S2"
      ],
      "metadata": {
        "id": "EvxQP2AMk7JU"
      }
    },
    {
      "cell_type": "code",
      "source": [
        "S1 = set([10, 20, 30, 40, 50, 60])\n",
        "S2 = set([40, 50, 60, 70, 80, 90])\n",
        "union_set = S1.union(S2)\n",
        "print(\"Union of S1 and S2:\", union_set)"
      ],
      "metadata": {
        "colab": {
          "base_uri": "https://localhost:8080/"
        },
        "id": "hPUDDosAk9Hs",
        "outputId": "cb97ff0c-1258-4617-99cd-6eca01f1933f"
      },
      "execution_count": 25,
      "outputs": [
        {
          "output_type": "stream",
          "name": "stdout",
          "text": [
            "Union of S1 and S2: {70, 40, 10, 80, 50, 20, 90, 60, 30}\n"
          ]
        }
      ]
    },
    {
      "cell_type": "markdown",
      "source": [
        "(v) WAP to find the intersection between S1 and S2"
      ],
      "metadata": {
        "id": "0_T-S7GYl6wO"
      }
    },
    {
      "cell_type": "code",
      "source": [
        "S1 = set([10, 20, 30, 40, 50, 60])\n",
        "S2 = set([40, 50, 60, 70, 80, 90])\n",
        "intersection_set = S1.intersection(S2)\n",
        "print(\"Intersection  of S1 and S2:\", intersection_set)"
      ],
      "metadata": {
        "colab": {
          "base_uri": "https://localhost:8080/"
        },
        "id": "jm1gg3vVl9Lq",
        "outputId": "05a6e02d-33f2-4845-ab1e-2ff331c57ffd"
      },
      "execution_count": 26,
      "outputs": [
        {
          "output_type": "stream",
          "name": "stdout",
          "text": [
            "Intersection  of S1 and S2: {40, 50, 60}\n"
          ]
        }
      ]
    },
    {
      "cell_type": "markdown",
      "source": [
        "(vi) WAP to find S1 - S2 (difference)"
      ],
      "metadata": {
        "id": "86V8hflYmgbZ"
      }
    },
    {
      "cell_type": "code",
      "source": [
        "S1 = set([10, 20, 30, 40, 50, 60])\n",
        "S2 = set([40, 50, 60, 70, 80, 90])\n",
        "difference_set = S1.difference(S2)\n",
        "print(\"S1 - S2 (elements in S1 but not in S2):\", difference_set)"
      ],
      "metadata": {
        "colab": {
          "base_uri": "https://localhost:8080/"
        },
        "id": "mqvtXsalmlIa",
        "outputId": "3cf7e977-da3b-494f-acb3-dc05914b122a"
      },
      "execution_count": 27,
      "outputs": [
        {
          "output_type": "stream",
          "name": "stdout",
          "text": [
            "S1 - S2 (elements in S1 but not in S2): {10, 20, 30}\n"
          ]
        }
      ]
    },
    {
      "cell_type": "markdown",
      "source": [
        "### **Q4. Write the following program**\n",
        "(i) WAP to print 100 random strings whose length is between 6 and 8"
      ],
      "metadata": {
        "id": "wwMoJdVFm2ts"
      }
    },
    {
      "cell_type": "code",
      "source": [
        "import random\n",
        "import string\n",
        "\n",
        "# Generate 100 random strings\n",
        "for i in range(100):\n",
        "    # Random length between 6 and 8\n",
        "    size = random.randint(6, 8)\n",
        "\n",
        "    # Choose random letters and digits\n",
        "    letters_digits = string.ascii_letters + string.digits\n",
        "    result = ''.join(random.choices(letters_digits, k=size))\n",
        "\n",
        "    # Print the result\n",
        "    print(result)\n"
      ],
      "metadata": {
        "colab": {
          "base_uri": "https://localhost:8080/"
        },
        "id": "zhKpFF_jnLjx",
        "outputId": "392d9cde-44ba-469c-819e-ba2a15464fc4"
      },
      "execution_count": 28,
      "outputs": [
        {
          "output_type": "stream",
          "name": "stdout",
          "text": [
            "ek9muX\n",
            "BNLJXE\n",
            "AEgT1rZK\n",
            "vYPGH9\n",
            "cJmBiUo\n",
            "omfkcd7\n",
            "Qy7QRf0\n",
            "o4EFOebb\n",
            "IinROFk\n",
            "TQJwEr\n",
            "r58sebJW\n",
            "uGIGAV\n",
            "5eCXrpZ\n",
            "300FFQea\n",
            "NlrQ5lV\n",
            "U5PpJTQ\n",
            "4WydQZ4Z\n",
            "K8cCNw\n",
            "tpwcwIk1\n",
            "cz3Xhy\n",
            "Zsud0lg\n",
            "HcZQpeV\n",
            "h0gROTv\n",
            "1Eu7Wo\n",
            "i41ytBc\n",
            "rZwNJwyR\n",
            "BSioIoR\n",
            "Z2DhIcb\n",
            "xbG0C8t\n",
            "b3hsYG\n",
            "X7UOglP\n",
            "v4kfCZ\n",
            "ENPeBM\n",
            "SVYU8B6\n",
            "k9kr9t\n",
            "qmBLdYSS\n",
            "ZuOEZLbs\n",
            "uMpDsAD\n",
            "EjIvom\n",
            "I9ZpoA1Z\n",
            "ehss62h1\n",
            "GEVWsot\n",
            "CqSX1MEF\n",
            "FKONpG\n",
            "cEnHXVH\n",
            "FJbUN0\n",
            "WZTVXao\n",
            "IMiEDLe\n",
            "PH850fHH\n",
            "SYhxfy\n",
            "NpCrV7Y\n",
            "D02kcgl\n",
            "Ff4uL5\n",
            "ABDU6V\n",
            "CKb7SO\n",
            "E4bxhX\n",
            "S8Xscf\n",
            "WaTicMe\n",
            "1quslh\n",
            "N6jVohdD\n",
            "R3mFTD6\n",
            "yu6UeR\n",
            "TqAzwMv\n",
            "x35s2p6\n",
            "7hVf2UFO\n",
            "JkPc8MK\n",
            "l4JmvXrd\n",
            "pgPQ9x\n",
            "1pZotJrj\n",
            "DbchNSm\n",
            "j5MICV\n",
            "VQ9EDr\n",
            "CCFSwV\n",
            "aVAriJXa\n",
            "Z9nyIy7o\n",
            "McLG4u\n",
            "QHxrgrL\n",
            "ATBjG6\n",
            "nzLiPc\n",
            "W3N3Xs62\n",
            "HetVHkH\n",
            "LmfMtN\n",
            "fRxvuyr2\n",
            "RKpCjPw\n",
            "NjXvZanB\n",
            "vgr9HMP\n",
            "RIoyY9i\n",
            "Fe1wBID\n",
            "SENuu9x\n",
            "5qpAUl\n",
            "FAkwxk\n",
            "JTl5Rl\n",
            "CthxeghS\n",
            "kAlb2r\n",
            "r7kAWa\n",
            "zl3TQrjb\n",
            "F9dSFx\n",
            "rxqIaR4s\n",
            "Ui76uq\n",
            "hz703nXC\n"
          ]
        }
      ]
    },
    {
      "cell_type": "markdown",
      "source": [
        "(ii) WAP to print all prime numbers between 600 and 800"
      ],
      "metadata": {
        "id": "Sc19RqkCn8LP"
      }
    },
    {
      "cell_type": "code",
      "source": [
        "for num in range(600, 801):\n",
        "    is_prime = True\n",
        "    if num < 2:\n",
        "        is_prime = False\n",
        "    else:\n",
        "        for i in range(2, int(num ** 0.5) + 1):\n",
        "            if num % i == 0:\n",
        "                is_prime = False\n",
        "                break\n",
        "    if is_prime:\n",
        "        print(num)\n"
      ],
      "metadata": {
        "colab": {
          "base_uri": "https://localhost:8080/"
        },
        "id": "n3-SxCB1oDYL",
        "outputId": "55c3afaf-fe56-481a-8cb7-4ce8609ddb58"
      },
      "execution_count": 29,
      "outputs": [
        {
          "output_type": "stream",
          "name": "stdout",
          "text": [
            "601\n",
            "607\n",
            "613\n",
            "617\n",
            "619\n",
            "631\n",
            "641\n",
            "643\n",
            "647\n",
            "653\n",
            "659\n",
            "661\n",
            "673\n",
            "677\n",
            "683\n",
            "691\n",
            "701\n",
            "709\n",
            "719\n",
            "727\n",
            "733\n",
            "739\n",
            "743\n",
            "751\n",
            "757\n",
            "761\n",
            "769\n",
            "773\n",
            "787\n",
            "797\n"
          ]
        }
      ]
    },
    {
      "cell_type": "markdown",
      "source": [
        "(iii) WAP to print all numbers between 100 and 1000 that are divisible by 7"
      ],
      "metadata": {
        "id": "A5VmYLpuopI1"
      }
    },
    {
      "cell_type": "code",
      "source": [
        "for num in range(100, 1001):\n",
        "    if num % 7 == 0:\n",
        "        print(num)"
      ],
      "metadata": {
        "colab": {
          "base_uri": "https://localhost:8080/"
        },
        "id": "XOtTsweDowJC",
        "outputId": "f02dd5e9-c6bb-4923-a5e6-874d459eaa51"
      },
      "execution_count": 30,
      "outputs": [
        {
          "output_type": "stream",
          "name": "stdout",
          "text": [
            "105\n",
            "112\n",
            "119\n",
            "126\n",
            "133\n",
            "140\n",
            "147\n",
            "154\n",
            "161\n",
            "168\n",
            "175\n",
            "182\n",
            "189\n",
            "196\n",
            "203\n",
            "210\n",
            "217\n",
            "224\n",
            "231\n",
            "238\n",
            "245\n",
            "252\n",
            "259\n",
            "266\n",
            "273\n",
            "280\n",
            "287\n",
            "294\n",
            "301\n",
            "308\n",
            "315\n",
            "322\n",
            "329\n",
            "336\n",
            "343\n",
            "350\n",
            "357\n",
            "364\n",
            "371\n",
            "378\n",
            "385\n",
            "392\n",
            "399\n",
            "406\n",
            "413\n",
            "420\n",
            "427\n",
            "434\n",
            "441\n",
            "448\n",
            "455\n",
            "462\n",
            "469\n",
            "476\n",
            "483\n",
            "490\n",
            "497\n",
            "504\n",
            "511\n",
            "518\n",
            "525\n",
            "532\n",
            "539\n",
            "546\n",
            "553\n",
            "560\n",
            "567\n",
            "574\n",
            "581\n",
            "588\n",
            "595\n",
            "602\n",
            "609\n",
            "616\n",
            "623\n",
            "630\n",
            "637\n",
            "644\n",
            "651\n",
            "658\n",
            "665\n",
            "672\n",
            "679\n",
            "686\n",
            "693\n",
            "700\n",
            "707\n",
            "714\n",
            "721\n",
            "728\n",
            "735\n",
            "742\n",
            "749\n",
            "756\n",
            "763\n",
            "770\n",
            "777\n",
            "784\n",
            "791\n",
            "798\n",
            "805\n",
            "812\n",
            "819\n",
            "826\n",
            "833\n",
            "840\n",
            "847\n",
            "854\n",
            "861\n",
            "868\n",
            "875\n",
            "882\n",
            "889\n",
            "896\n",
            "903\n",
            "910\n",
            "917\n",
            "924\n",
            "931\n",
            "938\n",
            "945\n",
            "952\n",
            "959\n",
            "966\n",
            "973\n",
            "980\n",
            "987\n",
            "994\n"
          ]
        }
      ]
    },
    {
      "cell_type": "markdown",
      "source": [
        "### **Q5. WAP to create two lists of 10 random numbers between 10 and 30; Find**\n",
        "(i) Common numbers in the two lists  "
      ],
      "metadata": {
        "id": "Hoq9-zAhqGh5"
      }
    },
    {
      "cell_type": "code",
      "source": [
        "import random\n",
        "list1 = [random.randint(10, 30) for i in range(10)]\n",
        "list2 = [random.randint(10, 30) for i in range(10)]\n",
        "print(\"List 1:\", list1)\n",
        "print(\"List 2:\", list2)\n",
        "common_numbers = set(list1).intersection(set(list2))\n",
        "print(\"Common numbers:\", common_numbers)"
      ],
      "metadata": {
        "colab": {
          "base_uri": "https://localhost:8080/"
        },
        "id": "KjhU7zzJqTDw",
        "outputId": "60ea0115-b322-42ce-9d79-a60d264fce73"
      },
      "execution_count": 34,
      "outputs": [
        {
          "output_type": "stream",
          "name": "stdout",
          "text": [
            "List 1: [13, 22, 28, 22, 23, 30, 12, 13, 26, 30]\n",
            "List 2: [11, 23, 25, 11, 11, 14, 18, 27, 10, 30]\n",
            "Common numbers: {30, 23}\n"
          ]
        }
      ]
    },
    {
      "cell_type": "markdown",
      "source": [
        "(ii) Unique numbers in both the list  "
      ],
      "metadata": {
        "id": "5UEA-Fvvq5Pe"
      }
    },
    {
      "cell_type": "code",
      "source": [
        "import random\n",
        "list1 = [random.randint(10, 30) for i in range(10)]\n",
        "list2 = [random.randint(10, 30) for i in range(10)]\n",
        "print(\"List 1:\", list1)\n",
        "print(\"List 2:\", list2)\n",
        "unique_numbers = set(list1).symmetric_difference(set(list2))\n",
        "print(\"Unique numbers:\", unique_numbers)"
      ],
      "metadata": {
        "colab": {
          "base_uri": "https://localhost:8080/"
        },
        "id": "aQ7ey8b0q7DF",
        "outputId": "4b8c729f-e456-4560-b676-32f2d1f19618"
      },
      "execution_count": 33,
      "outputs": [
        {
          "output_type": "stream",
          "name": "stdout",
          "text": [
            "List 1: [16, 24, 25, 19, 28, 12, 10, 30, 20, 26]\n",
            "List 2: [21, 11, 15, 17, 12, 10, 14, 28, 22, 19]\n",
            "Unique numbers: {11, 14, 15, 16, 17, 20, 21, 22, 24, 25, 26, 30}\n"
          ]
        }
      ]
    },
    {
      "cell_type": "markdown",
      "source": [
        "(iii) Minimum in both the list  "
      ],
      "metadata": {
        "id": "Y0i9LhScq7vn"
      }
    },
    {
      "cell_type": "code",
      "source": [
        "import random\n",
        "list1 = [random.randint(10, 30) for i in range(10)]\n",
        "list2 = [random.randint(10, 30) for i in range(10)]\n",
        "print(\"Minimum element from list1 : \",min(list1))\n",
        "print(\"Minimum element from list2 : \",min(list2))"
      ],
      "metadata": {
        "colab": {
          "base_uri": "https://localhost:8080/"
        },
        "id": "sFpt0uarrAdt",
        "outputId": "9ee7abcd-83f5-4ec3-9b64-2129b9eb0af8"
      },
      "execution_count": 39,
      "outputs": [
        {
          "output_type": "stream",
          "name": "stdout",
          "text": [
            "Minimum element from list1 :  12\n",
            "Minimum element from list2 :  13\n"
          ]
        }
      ]
    },
    {
      "cell_type": "markdown",
      "source": [
        "(iv) Maximum in both the list  "
      ],
      "metadata": {
        "id": "BVAH1tS-rA7p"
      }
    },
    {
      "cell_type": "code",
      "source": [
        "import random\n",
        "list1 = [random.randint(10, 30) for i in range(10)]\n",
        "list2 = [random.randint(10, 30) for i in range(10)]\n",
        "print(\"Maximum element from list1 : \",max(list1))\n",
        "print(\"Maximum element from list2 : \",max(list2))"
      ],
      "metadata": {
        "colab": {
          "base_uri": "https://localhost:8080/"
        },
        "id": "5Oyj2LQIrF-E",
        "outputId": "e7935542-bf9f-4e81-fe1e-3f73832645c9"
      },
      "execution_count": 40,
      "outputs": [
        {
          "output_type": "stream",
          "name": "stdout",
          "text": [
            "Maximum element from list1 :  28\n",
            "Maximum element from list2 :  25\n"
          ]
        }
      ]
    },
    {
      "cell_type": "markdown",
      "source": [
        "(v) Sum of both the lists"
      ],
      "metadata": {
        "id": "PeC401pSrGfZ"
      }
    },
    {
      "cell_type": "code",
      "source": [
        "import random\n",
        "list1 = [random.randint(10, 30) for i in range(10)]\n",
        "list2 = [random.randint(10, 30) for i in range(10)]\n",
        "sum1 = sum(list1)\n",
        "sum2 = sum(list2)\n",
        "print(\"Sum of List 1:\", sum1)\n",
        "print(\"Sum of List 2:\", sum2)\n",
        "print(\"Total Sum of both lists:\", sum1 + sum2)"
      ],
      "metadata": {
        "colab": {
          "base_uri": "https://localhost:8080/"
        },
        "id": "U0ILo09RrI5R",
        "outputId": "7604aa35-1a2e-4936-d3b6-4ce88a5c5b1d"
      },
      "execution_count": 41,
      "outputs": [
        {
          "output_type": "stream",
          "name": "stdout",
          "text": [
            "Sum of List 1: 213\n",
            "Sum of List 2: 189\n",
            "Total Sum of both lists: 402\n"
          ]
        }
      ]
    },
    {
      "cell_type": "markdown",
      "source": [
        "### **Q6. WAP to create a list of 100 random numbers between 100 and 900. Count and print the:**\n",
        "(i) All odd numbers  "
      ],
      "metadata": {
        "id": "p3OXIfpQtbWN"
      }
    },
    {
      "cell_type": "code",
      "source": [
        "import random\n",
        "random_numbers = [random.randint(100, 900) for i in range(100)]\n",
        "odd_numbers = [num for num in random_numbers if num % 2 != 0]\n",
        "print(\"Odd numbers:\", odd_numbers)\n",
        "print(\"Number of odd numbers:\", len(odd_numbers))"
      ],
      "metadata": {
        "colab": {
          "base_uri": "https://localhost:8080/"
        },
        "id": "F0005p2dtp3G",
        "outputId": "deecfe3e-4ec3-447a-8492-fe97d4318169"
      },
      "execution_count": 45,
      "outputs": [
        {
          "output_type": "stream",
          "name": "stdout",
          "text": [
            "Odd numbers: [733, 457, 299, 229, 303, 225, 401, 379, 535, 507, 867, 359, 435, 291, 647, 807, 711, 499, 797, 261, 345, 323, 871, 545, 841, 431, 125, 215, 509, 681, 797, 373, 719, 333, 589, 289, 785, 739, 121, 695, 393, 585, 757, 631, 503, 863, 457, 597, 707, 803]\n",
            "Number of odd numbers: 50\n"
          ]
        }
      ]
    },
    {
      "cell_type": "markdown",
      "source": [
        "(ii) All even numbers  "
      ],
      "metadata": {
        "id": "dwEeMkGluqt3"
      }
    },
    {
      "cell_type": "code",
      "source": [
        "import random\n",
        "random_numbers = [random.randint(100, 900) for i in range(100)]\n",
        "even_numbers = [num for num in random_numbers if num % 2 == 0]\n",
        "print(\"Even numbers:\", even_numbers)\n",
        "print(\"Number of even numbers:\", len(even_numbers))"
      ],
      "metadata": {
        "colab": {
          "base_uri": "https://localhost:8080/"
        },
        "id": "AzQr3eKNuxxa",
        "outputId": "e0ed3b10-3a34-402c-cb53-60b9de093a02"
      },
      "execution_count": 46,
      "outputs": [
        {
          "output_type": "stream",
          "name": "stdout",
          "text": [
            "Even numbers: [804, 734, 384, 374, 448, 248, 492, 564, 722, 490, 402, 142, 810, 112, 260, 824, 448, 788, 226, 712, 732, 400, 292, 426, 762, 664, 542, 126, 276, 406, 528, 772, 854]\n",
            "Number of even numbers: 33\n"
          ]
        }
      ]
    },
    {
      "cell_type": "markdown",
      "source": [
        "(iii) All prime numbers"
      ],
      "metadata": {
        "id": "qCtiWQ_LvCF8"
      }
    },
    {
      "cell_type": "code",
      "source": [
        "import random\n",
        "random_numbers = [random.randint(100, 900) for i in range(100)]\n",
        "prime_numbers = []\n",
        "for num in random_numbers:\n",
        "  if num > 1:\n",
        "    for i in range(2,num):\n",
        "      if num % i == 0:\n",
        "        break\n",
        "    else:\n",
        "      prime_numbers.append(num)\n",
        "print(\"Prime numbers:\", prime_numbers)\n",
        "print(\"Number of prime numbers:\", len(prime_numbers))"
      ],
      "metadata": {
        "colab": {
          "base_uri": "https://localhost:8080/"
        },
        "id": "f99hqUPvvDsB",
        "outputId": "464d82ca-14d4-4e3c-9457-4ec1264c5eec"
      },
      "execution_count": 47,
      "outputs": [
        {
          "output_type": "stream",
          "name": "stdout",
          "text": [
            "Prime numbers: [739, 577, 269, 347, 199, 631, 617, 857, 331, 821, 881, 751, 787, 811, 241, 593]\n",
            "Number of prime numbers: 16\n"
          ]
        }
      ]
    },
    {
      "cell_type": "markdown",
      "source": [
        "### **Q7. D is a dictionary defined as D = {1:\"One\",2:\"Two\",3:\"Three\", 4:\"Four\", 5:\"Five\"}**\n",
        "(i) WAP to read all the keys and values from dictionary and write to the file in the given below format.\n",
        "\n",
        "Key1, Value1\n",
        "\n",
        "Key2, Value2\n",
        "\n",
        "Key3, Value3"
      ],
      "metadata": {
        "id": "_IZz7RaOvhDc"
      }
    },
    {
      "cell_type": "code",
      "source": [
        "D = {1:\"One\",2:\"Two\",3:\"Three\", 4:\"Four\", 5:\"Five\"}\n",
        "file = open(\"dictionary.txt\", \"w\")\n",
        "for key, value in D.items():\n",
        "    file.write(f\"{key}, {value}\\n\")\n",
        "print(\"Data written to 'dictionary_output.txt' successfully.\")"
      ],
      "metadata": {
        "colab": {
          "base_uri": "https://localhost:8080/"
        },
        "id": "3B5k_41Swbkx",
        "outputId": "82114f33-c085-4e96-feb7-f0f4bd634657"
      },
      "execution_count": 48,
      "outputs": [
        {
          "output_type": "stream",
          "name": "stdout",
          "text": [
            "Data written to 'dictionary_output.txt' successfully.\n"
          ]
        }
      ]
    },
    {
      "cell_type": "markdown",
      "source": [
        "### **Q8. L is a list defined as L = [\"One\", \"Two\", \"Three\", \"Four\", \"Five\"].**\n",
        "(i)WAP to count the length of reach element from a list and write to the file in the given below format:\n",
        "\n",
        "One, 3\n",
        "\n",
        "Two, 3\n",
        "\n",
        "Four, 4"
      ],
      "metadata": {
        "id": "O0vCsCwlxYtQ"
      }
    },
    {
      "cell_type": "code",
      "source": [
        "L = [\"One\", \"Two\", \"Three\", \"Four\", \"Five\"]\n",
        "file = open(\"text.txt\",\"w\")\n",
        "for item in L:\n",
        "  length = len(item)\n",
        "  file.write(f\"{item}, {length}\\n\")\n",
        "print(\"Lengths written to 'length_output.txt' successfully.\")"
      ],
      "metadata": {
        "colab": {
          "base_uri": "https://localhost:8080/"
        },
        "id": "_9oPWWAHyLXN",
        "outputId": "c212e607-4f49-48bd-b619-24b67ec4962f"
      },
      "execution_count": 50,
      "outputs": [
        {
          "output_type": "stream",
          "name": "stdout",
          "text": [
            "Lengths written to 'length_output.txt' successfully.\n"
          ]
        }
      ]
    },
    {
      "cell_type": "markdown",
      "source": [
        "### **Q9. Write to the file 100 random strings whose length between 10 and 15.**"
      ],
      "metadata": {
        "id": "MiPegMygzJtC"
      }
    },
    {
      "cell_type": "code",
      "source": [
        "import random\n",
        "import string\n",
        "file = open(\"random_strings.txt\",\"w\")\n",
        "for i in range(100):\n",
        "        length = random.randint(10, 15)\n",
        "        random_str = ''.join(random.choices(string.ascii_letters + string.digits, k=length))\n",
        "        file.write(random_str + \"\\n\")\n",
        "print(\"100 random strings written to 'random_strings.txt' successfully.\")"
      ],
      "metadata": {
        "colab": {
          "base_uri": "https://localhost:8080/"
        },
        "id": "me7GJDSqzdDU",
        "outputId": "16c19f89-0f5d-4050-8b52-c4356eaba639"
      },
      "execution_count": 53,
      "outputs": [
        {
          "output_type": "stream",
          "name": "stdout",
          "text": [
            "100 random strings written to 'random_strings.txt' successfully.\n"
          ]
        }
      ]
    },
    {
      "cell_type": "markdown",
      "source": [
        "### **Q10. Write to the file all prime numbers between 600 and 800.**"
      ],
      "metadata": {
        "id": "hLqlBBfE0KjE"
      }
    },
    {
      "cell_type": "code",
      "source": [
        "file = open(\"prime_numbers_600_800.txt\", \"w\")\n",
        "for num in range(600, 801):\n",
        "    is_prime = True\n",
        "    if num < 2:\n",
        "        is_prime = False\n",
        "    else:\n",
        "        for i in range(2, int(num ** 0.5) + 1):\n",
        "          if num % i == 0:\n",
        "              is_prime = False\n",
        "              break\n",
        "    if is_prime:\n",
        "        file.write(str(num) + \"\\n\")\n",
        "print(\"Prime numbers between 600 and 800 written to 'prime_numbers_600_800.txt' successfully.\")"
      ],
      "metadata": {
        "colab": {
          "base_uri": "https://localhost:8080/"
        },
        "id": "gFNmNlxV0X9H",
        "outputId": "a7023f0e-66c3-4ca0-fc59-fff6adf80c38"
      },
      "execution_count": 55,
      "outputs": [
        {
          "output_type": "stream",
          "name": "stdout",
          "text": [
            "Prime numbers between 600 and 800 written to 'prime_numbers_600_800.txt' successfully.\n"
          ]
        }
      ]
    },
    {
      "cell_type": "markdown",
      "source": [
        "### **Q11. WAP to calculate the time taken by a program**"
      ],
      "metadata": {
        "id": "-CwzpBRV1L-i"
      }
    },
    {
      "cell_type": "code",
      "source": [
        "import time\n",
        "start_time = time.time()\n",
        "total = 0\n",
        "for i in range(1,11):\n",
        "  total += i\n",
        "end_time = time.time()\n",
        "time_taken = end_time - start_time\n",
        "print(\"Total:\", total)\n",
        "print(\"Time taken by the program :{time_taken:.4f} seconds\")"
      ],
      "metadata": {
        "colab": {
          "base_uri": "https://localhost:8080/"
        },
        "id": "mUVf8X9v1tmF",
        "outputId": "f5636b1b-bea9-4f4e-9dc2-fec43141611e"
      },
      "execution_count": 59,
      "outputs": [
        {
          "output_type": "stream",
          "name": "stdout",
          "text": [
            "Total: 55\n",
            "Time taken by the program :{time_taken:.4f} seconds\n"
          ]
        }
      ]
    },
    {
      "cell_type": "markdown",
      "source": [
        "### **Q12. WAP to sort following number of elements in a list, calculate time taken and plot the graph.**\n",
        "![WhatsApp Image 2025-06-11 at 17.33.36_368c182b.jpg](data:image/jpeg;base64,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)"
      ],
      "metadata": {
        "id": "JQJgZmNr3D8o"
      }
    },
    {
      "cell_type": "code",
      "source": [
        "import random\n",
        "import time\n",
        "import matplotlib.pyplot as plt\n",
        "sizes = [5000, 10000, 15000, 20000, 25000]\n",
        "times = []\n",
        "for size in sizes:\n",
        "    numbers = [random.randint(1, 100000) for i in range(size)]\n",
        "    start = time.time()\n",
        "    start = time.time()\n",
        "    sorted_numbers = sorted(sizes)\n",
        "    end = time.time()\n",
        "    time_taken = end - start\n",
        "    times.append(time_taken)\n",
        "    print(f\"Sorted list of {size} elements in {time_taken:.6f} seconds\")\n",
        "\n",
        "# Plot the graph\n",
        "plt.plot(sizes, times, marker='o', linestyle='-', color='blue')\n",
        "plt.title(\"List Size vs Sorting Time\")\n",
        "plt.xlabel(\"Number of Elements\")\n",
        "plt.ylabel(\"Time Taken (seconds)\")\n",
        "plt.grid(True)\n",
        "plt.show()"
      ],
      "metadata": {
        "colab": {
          "base_uri": "https://localhost:8080/",
          "height": 559
        },
        "id": "sYbCkdUA4Erx",
        "outputId": "810a3661-f80e-491e-db12-96157fb6b242"
      },
      "execution_count": 61,
      "outputs": [
        {
          "output_type": "stream",
          "name": "stdout",
          "text": [
            "Sorted list of 5000 elements in 0.000005 seconds\n",
            "Sorted list of 10000 elements in 0.000003 seconds\n",
            "Sorted list of 15000 elements in 0.000004 seconds\n",
            "Sorted list of 20000 elements in 0.000013 seconds\n",
            "Sorted list of 25000 elements in 0.000007 seconds\n"
          ]
        },
        {
          "output_type": "display_data",
          "data": {
            "text/plain": [
              "<Figure size 640x480 with 1 Axes>"
            ],
            "image/png": "[encoded data removed]"
          },
          "metadata": {}
        }
      ]
    },
    {
      "cell_type": "markdown",
      "source": [
        "### **Q13. WAP to create a dictionary of student marks in five subjects and you have to find the student having maximum and minimum average marks.**"
      ],
      "metadata": {
        "id": "NtxkumFJ6MHi"
      }
    },
    {
      "cell_type": "code",
      "source": [
        "students = {\n",
        "    \"Alice\": [85, 90, 78, 92, 88],\n",
        "    \"Bob\": [70, 75, 80, 65, 60],\n",
        "    \"Charlie\": [95, 98, 94, 96, 93],\n",
        "    \"David\": [50, 55, 58, 53, 60],\n",
        "    \"Eva\": [76, 85, 80, 79, 82]\n",
        "}\n",
        "averages = {}\n",
        "for name, marks in students.items():\n",
        "    avg = sum(marks) / len(marks)\n",
        "    averages[name] = avg\n",
        "max_student = max(averages, key=averages.get)\n",
        "min_student = min(averages, key=averages.get)\n",
        "print(f\"Student with Maximum Average Marks: {max_student} ({averages[max_student]:.2f})\")\n",
        "print(f\"Student with Minimum Average Marks: {min_student} ({averages[min_student]:.2f})\")\n"
      ],
      "metadata": {
        "colab": {
          "base_uri": "https://localhost:8080/"
        },
        "id": "3JwNc6DZ6oG6",
        "outputId": "b0190a3a-0ba8-43c5-c3d8-f8d58274289e"
      },
      "execution_count": 62,
      "outputs": [
        {
          "output_type": "stream",
          "name": "stdout",
          "text": [
            "Student with Maximum Average Marks: Charlie (95.20)\n",
            "Student with Minimum Average Marks: David (55.20)\n"
          ]
        }
      ]
    }
  ]
}